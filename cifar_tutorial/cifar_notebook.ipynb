{
 "cells": [
  {
   "cell_type": "markdown",
   "metadata": {},
   "source": [
    "# CIFAR10 教學筆記本\n",
    "在這本筆記本中，我們將利用CIFAR10資料集和深度類神經網路AlexNet，訓練一個影像分類器。\n",
    "\n",
    "## 程式語言及相關的Library\n",
    "* Python \n",
    "* Numpy\n",
    "* Pytorch"
   ]
  },
  {
   "cell_type": "markdown",
   "metadata": {},
   "source": [
    "# 1. 導入相關的Library"
   ]
  },
  {
   "cell_type": "code",
   "execution_count": 1,
   "metadata": {
    "collapsed": true
   },
   "outputs": [],
   "source": [
    "import os\n",
    "import torch\n",
    "import torchvision\n",
    "from torch.autograd import Variable\n",
    "import numpy as np\n",
    "\n",
    "main_path = os.getcwd()\n",
    "resizer = torch.nn.functional.interpolate"
   ]
  },
  {
   "cell_type": "markdown",
   "metadata": {},
   "source": [
    "# 2. 導入CIFAR10 資料集\n",
    "簡介：Cifar-10是由Geoffrey Hinton教授所整理的影像資料集，在其中包含60000筆解析度為32*32之彩色RGB圖片，其中 50000筆為訓練資料，10000筆為測試資料，此資料庫為深度學習中常用的資料集。\n",
    "![Cifar 10](./utils/notebook_pic/cifar10.png)\n",
    "Cifar-10一共包含10種類別的圖片，包含\n",
    "* 1 : airplain\n",
    "* 2 : automobile\n",
    "* 3 : bird\n",
    "* 4 : cat\n",
    "* 5 : deer\n",
    "* 6 : dog\n",
    "* 7 : frog\n",
    "* 8 : horse\n",
    "* 9 : ship\n",
    "* 10 : truck"
   ]
  },
  {
   "cell_type": "code",
   "execution_count": 2,
   "metadata": {},
   "outputs": [
    {
     "name": "stdout",
     "output_type": "stream",
     "text": [
      "Files already downloaded and verified\n",
      "Files already downloaded and verified\n"
     ]
    }
   ],
   "source": [
    "import torchvision.transforms as transforms\n",
    "transform = transforms.Compose([transforms.ToTensor(),transforms.Normalize((0.5, 0.5, 0.5), (0.5, 0.5, 0.5))])\n",
    "trainset = torchvision.datasets.CIFAR10(root='./data', train=True,download=True, transform=transform)\n",
    "trainloader = torch.utils.data.DataLoader(trainset, batch_size=10,shuffle=True, num_workers=2) #\n",
    "testset = torchvision.datasets.CIFAR10(root='./data', train=False,download=True, transform=transform)\n",
    "testloader = torch.utils.data.DataLoader(testset, batch_size=4,shuffle=False, num_workers=2)"
   ]
  },
  {
   "cell_type": "markdown",
   "metadata": {},
   "source": [
    "# 3. 定義AlexNet\n",
    "AlexNet在2012年的ImageNet LSVRC的比賽上拿到了冠軍，使得Convolutional Neural Network開始被學界、業界重視。在近幾年的中，深度學習的論文、應用更是被廣泛的推廣，以開山始祖AlexNet作為認識深度學習的模型是再恰當不過的。\n",
    "\n",
    "![AlexNet](./utils/notebook_pic/AlexNet.png)\n",
    "\n",
    "## AlexNet結構及意義\n",
    "* 五層卷積層 : 掃描圖像上的特徵，並將與結果之正相關特徵激活。\n",
    "* Maxpooling : 減輕從卷積層掃描之特徵。\n",
    "* 全連接層: 藉由萃取後的圖像特徵，進行分類。\n",
    "\n",
    "## AlexNet 特性\n",
    "* 採用Dropout：避免過擬和訓練資料。\n",
    "* 採用Relu非線性激活函數：防止梯度消散、加快訓練、增加訓練穩定度。\n",
    "* 支援GPU訓練。"
   ]
  },
  {
   "cell_type": "code",
   "execution_count": 3,
   "metadata": {},
   "outputs": [
    {
     "name": "stdout",
     "output_type": "stream",
     "text": [
      "AlexNet結構：\n",
      "AlexNet(\n",
      "  (features): Sequential(\n",
      "    (0): Conv2d(3, 64, kernel_size=(11, 11), stride=(4, 4), padding=(2, 2))\n",
      "    (1): ReLU(inplace)\n",
      "    (2): MaxPool2d(kernel_size=3, stride=2, padding=0, dilation=1, ceil_mode=False)\n",
      "    (3): Conv2d(64, 192, kernel_size=(5, 5), stride=(1, 1), padding=(2, 2))\n",
      "    (4): ReLU(inplace)\n",
      "    (5): MaxPool2d(kernel_size=3, stride=2, padding=0, dilation=1, ceil_mode=False)\n",
      "    (6): Conv2d(192, 384, kernel_size=(3, 3), stride=(1, 1), padding=(1, 1))\n",
      "    (7): ReLU(inplace)\n",
      "    (8): Conv2d(384, 256, kernel_size=(3, 3), stride=(1, 1), padding=(1, 1))\n",
      "    (9): ReLU(inplace)\n",
      "    (10): Conv2d(256, 256, kernel_size=(3, 3), stride=(1, 1), padding=(1, 1))\n",
      "    (11): ReLU(inplace)\n",
      "    (12): MaxPool2d(kernel_size=3, stride=2, padding=0, dilation=1, ceil_mode=False)\n",
      "  )\n",
      "  (avgpool): AdaptiveAvgPool2d(output_size=(6, 6))\n",
      "  (classifier): Sequential(\n",
      "    (0): Dropout(p=0.5)\n",
      "    (1): Linear(in_features=9216, out_features=4096, bias=True)\n",
      "    (2): ReLU(inplace)\n",
      "    (3): Dropout(p=0.5)\n",
      "    (4): Linear(in_features=4096, out_features=4096, bias=True)\n",
      "    (5): ReLU(inplace)\n",
      "    (6): Linear(in_features=4096, out_features=10, bias=True)\n",
      "  )\n",
      ")\n"
     ]
    }
   ],
   "source": [
    "import torch.nn as nn\n",
    "class AlexNet(nn.Module):\n",
    "\n",
    "    def __init__(self, num_classes=1000):\n",
    "        super(AlexNet, self).__init__()\n",
    "        self.features = nn.Sequential(\n",
    "            nn.Conv2d(3, 64, kernel_size=11, stride=4, padding=2),\n",
    "            nn.ReLU(inplace=True),\n",
    "            nn.MaxPool2d(kernel_size=3, stride=2),\n",
    "            nn.Conv2d(64, 192, kernel_size=5, padding=2),\n",
    "            nn.ReLU(inplace=True),\n",
    "            nn.MaxPool2d(kernel_size=3, stride=2),\n",
    "            nn.Conv2d(192, 384, kernel_size=3, padding=1),\n",
    "            nn.ReLU(inplace=True),\n",
    "            nn.Conv2d(384, 256, kernel_size=3, padding=1),\n",
    "            nn.ReLU(inplace=True),\n",
    "            nn.Conv2d(256, 256, kernel_size=3, padding=1),\n",
    "            nn.ReLU(inplace=True),\n",
    "            nn.MaxPool2d(kernel_size=3, stride=2),\n",
    "        )\n",
    "        self.avgpool = nn.AdaptiveAvgPool2d((6, 6))\n",
    "        self.classifier = nn.Sequential(\n",
    "            nn.Dropout(),\n",
    "            nn.Linear(256 * 6 * 6, 4096),\n",
    "            nn.ReLU(inplace=True),\n",
    "            nn.Dropout(),\n",
    "            nn.Linear(4096, 4096),\n",
    "            nn.ReLU(inplace=True),\n",
    "            nn.Linear(4096, num_classes),\n",
    "        )\n",
    "\n",
    "    def forward(self, x):\n",
    "        x = self.features(x)\n",
    "        x = self.avgpool(x)\n",
    "        x = x.view(x.size(0), 256 * 6 * 6)\n",
    "        x = self.classifier(x)\n",
    "        return x\n",
    "    \n",
    "Net = AlexNet(num_classes=10)\n",
    "Net.train()\n",
    "Net.cuda()\n",
    "print(\"AlexNet結構：\")\n",
    "print(Net)"
   ]
  },
  {
   "cell_type": "markdown",
   "metadata": {},
   "source": [
    "# 4. 設定訓練細節\n",
    "* 訓練次數 : 預設為5\n",
    "* 設定Loss function : 預設為Cross-Entropy Loss\n",
    "* 設定Optimizer : 預設為SGD\n",
    " \n"
   ]
  },
  {
   "cell_type": "code",
   "execution_count": 4,
   "metadata": {
    "collapsed": true
   },
   "outputs": [],
   "source": [
    "import torch.optim as optim\n",
    "EPOCH = 5\n",
    "criterion = nn.CrossEntropyLoss()\n",
    "optimizer = optim.SGD(Net.parameters(), lr=0.001, momentum=0.9)"
   ]
  },
  {
   "cell_type": "markdown",
   "metadata": {},
   "source": [
    "# 5. 進行訓練"
   ]
  },
  {
   "cell_type": "code",
   "execution_count": 5,
   "metadata": {},
   "outputs": [
    {
     "name": "stdout",
     "output_type": "stream",
     "text": [
      "Epoch [ 0  /  5 ] : \n",
      "[1,  2000] loss: 2.287\n",
      "[2001,  4000] loss: 1.863\n",
      "Epoch [ 1  /  5 ] : \n",
      "[1,  2000] loss: 1.475\n",
      "[2001,  4000] loss: 1.320\n",
      "Epoch [ 2  /  5 ] : \n",
      "[1,  2000] loss: 1.116\n",
      "[2001,  4000] loss: 1.014\n",
      "Epoch [ 3  /  5 ] : \n",
      "[1,  2000] loss: 0.870\n",
      "[2001,  4000] loss: 0.814\n",
      "Epoch [ 4  /  5 ] : \n",
      "[1,  2000] loss: 0.711\n",
      "[2001,  4000] loss: 0.693\n",
      "結束訓練\n"
     ]
    }
   ],
   "source": [
    "for epoch in range(EPOCH): \n",
    "    print('Epoch [', epoch,' / ',EPOCH,'] : ')\n",
    "    running_loss = 0.0\n",
    "    for i, data in enumerate(trainloader, 0):\n",
    "        # 取得訓練資料\n",
    "        inputs, labels = data\n",
    "        inputs = Variable(resizer(inputs,size = (227,227))).cuda()\n",
    "        labels = Variable(labels).cuda()\n",
    "        # 初始化optimizer\n",
    "        optimizer.zero_grad()\n",
    "        # 資料送至AlexNet : Forward\n",
    "        outputs = Net(inputs)\n",
    "        # 計算Loss\n",
    "        loss = criterion(outputs, labels)\n",
    "        # 修正網路並調整Optimizer\n",
    "        loss.backward()\n",
    "        optimizer.step()\n",
    "        running_loss += loss.item()\n",
    "        if i % 2000 == 1999:\n",
    "            print('[%d, %5d] loss: %.3f' %\n",
    "                  (i - 1998, i + 1, running_loss / 2000))\n",
    "            running_loss = 0.0\n",
    "\n",
    "print('結束訓練')"
   ]
  },
  {
   "cell_type": "markdown",
   "metadata": {},
   "source": [
    "\n",
    "# 訓練20 EPOCH 後的細節\n",
    ". <br />\n",
    ". <br />\n",
    ". <br />\n",
    ". <br />\n",
    "Epoch [ 17  /  20 ] : <br />\n",
    "[1,  2000] loss: 0.111<br />\n",
    "[2001,  4000] loss: 0.139<br />\n",
    "Epoch [ 18  /  20 ] : <br />\n",
    "[1,  2000] loss: 0.107<br />\n",
    "[2001,  4000] loss: 0.112<br />\n",
    "Epoch [ 19  /  20 ] : <br />\n",
    "[1,  2000] loss: 0.085 <br />\n",
    "[2001,  4000] loss: 0.110 <br />"
   ]
  },
  {
   "cell_type": "markdown",
   "metadata": {},
   "source": [
    "# 6. 測試訓練後的模型"
   ]
  },
  {
   "cell_type": "code",
   "execution_count": 6,
   "metadata": {},
   "outputs": [
    {
     "name": "stdout",
     "output_type": "stream",
     "text": [
      "Accuracy of plane : 84 %\n",
      "Accuracy of   car : 87 %\n",
      "Accuracy of  bird : 64 %\n",
      "Accuracy of   cat : 49 %\n",
      "Accuracy of  deer : 70 %\n",
      "Accuracy of   dog : 78 %\n",
      "Accuracy of  frog : 84 %\n",
      "Accuracy of horse : 85 %\n",
      "Accuracy of  ship : 81 %\n",
      "Accuracy of truck : 82 %\n"
     ]
    }
   ],
   "source": [
    "class_correct = list(0. for i in range(10))\n",
    "class_total = list(0. for i in range(10))\n",
    "classes = ('plane', 'car', 'bird', 'cat',\n",
    "           'deer', 'dog', 'frog', 'horse', 'ship', 'truck')\n",
    "with torch.no_grad():\n",
    "    \n",
    "    for data in testloader:\n",
    "        images, labels = data\n",
    "        images = Variable(resizer(images,size = (227,227))).cuda()\n",
    "        \n",
    "        outputs = Net(images)\n",
    "        _, predicted = torch.max(outputs, 1)\n",
    "        c = (predicted.data.cpu() == labels).squeeze()\n",
    "        \n",
    "        for i in range(4):\n",
    "            label = labels[i]\n",
    "            class_correct[label] += c[i].item()\n",
    "            class_total[label] += 1\n",
    "\n",
    "\n",
    "for i in range(10):\n",
    "    print('Accuracy of %5s : %2d %%' % (\n",
    "        classes[i], 100 * class_correct[i] / class_total[i]))"
   ]
  },
  {
   "cell_type": "markdown",
   "metadata": {},
   "source": [
    "# 訓練20 EPOCH 後的成果\n",
    "Accuracy of plane : 84 %<br />\n",
    "Accuracy of   car : 90 %<br />\n",
    "Accuracy of  bird : 79 %<br />\n",
    "Accuracy of   cat : 66 %<br />\n",
    "Accuracy of  deer : 80 %<br />\n",
    "Accuracy of   dog : 72 %<br />\n",
    "Accuracy of  frog : 84 %<br />\n",
    "Accuracy of horse : 87 %<br />\n",
    "Accuracy of  ship : 90 %<br />\n",
    "Accuracy of truck : 81 %<br />"
   ]
  }
 ],
 "metadata": {
  "kernelspec": {
   "display_name": "Python 3",
   "language": "python",
   "name": "python3"
  },
  "language_info": {
   "codemirror_mode": {
    "name": "ipython",
    "version": 3
   },
   "file_extension": ".py",
   "mimetype": "text/x-python",
   "name": "python",
   "nbconvert_exporter": "python",
   "pygments_lexer": "ipython3",
   "version": "3.6.7"
  }
 },
 "nbformat": 4,
 "nbformat_minor": 2
}
