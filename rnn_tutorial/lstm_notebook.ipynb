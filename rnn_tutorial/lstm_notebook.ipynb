{
 "cells": [
  {
   "cell_type": "markdown",
   "metadata": {},
   "source": [
    "# LSTM 教學筆記本\n",
    "LSTM(Long Short-Term Memory)一種時間遞歸神經網RNN，論文發表於1997年。由於獨特的結構設計，LSTM適合於處理時間序列上的重要事件。\n",
    "\n",
    "## LSTM 常被用於：\n",
    "* 自然語言：LSTM擅長處理時序上的資料，因此常被用於處理語意上的任務，例如產生語句、翻譯文案等。\n",
    "* 銷售預測：藉由挖掘歷史紀錄的時序特性，LSTM也被廣泛的運用在預測銷售曲線上、預測股票曲線等。\n",
    "\n",
    "![GAN](./utils/notebook_pic/lstm.png)\n",
    "\n",
    "## 程式語言及相關的Library\n",
    "* Python \n",
    "* Numpy\n",
    "* Pytorch\n",
    "* matplotlib\n",
    "* Pandas\n",
    "* SKlearn\n"
   ]
  },
  {
   "cell_type": "markdown",
   "metadata": {},
   "source": [
    "# 1. 導入相關的Library"
   ]
  },
  {
   "cell_type": "code",
   "execution_count": 1,
   "metadata": {},
   "outputs": [],
   "source": [
    "import os\n",
    "import numpy as np\n",
    "import pandas as pd\n",
    "import matplotlib.pyplot as plt\n",
    "import torch.nn as nn\n",
    "import torch\n",
    "from torch.autograd import Variable"
   ]
  },
  {
   "cell_type": "markdown",
   "metadata": {},
   "source": [
    "# 2. 導入 google 股價歷史資料\n",
    "簡介：由Stock Predictor所收集的google股價歷史資料，我們將利用這組資料訓練LSTM預測股價。\n",
    "![google_stock](./utils/notebook_pic/stock_data.png)\n",
    "\n"
   ]
  },
  {
   "cell_type": "code",
   "execution_count": 2,
   "metadata": {},
   "outputs": [],
   "source": [
    "from sklearn.preprocessing import MinMaxScaler\n",
    "# 導入訓練資料\n",
    "INPUT_SIZE = 60\n",
    "dataset_train = pd.read_csv('Google_Stock_Price_Train.csv')\n",
    "training_set = dataset_train.iloc[:, 1:2].values\n",
    "sc = MinMaxScaler(feature_range = (0, 1))\n",
    "training_set_scaled = sc.fit_transform(training_set)\n",
    "\n",
    "X_train = []\n",
    "y_train = []\n",
    "for i in range(INPUT_SIZE, 1258):\n",
    "    X_train.append(training_set_scaled[i-INPUT_SIZE:i, 0])\n",
    "    y_train.append(training_set_scaled[i, 0])\n",
    "\n",
    "X_train, y_train = np.array(X_train), np.array(y_train)\n",
    "X_train = np.reshape(X_train, (X_train.shape[0], 1, X_train.shape[1]))\n",
    "\n",
    "dataset_test = pd.read_csv('Google_Stock_Price_Test.csv')\n",
    "real_stock_price = dataset_test.iloc[:, 1:2].values\n",
    "\n",
    "# 導入測試資料\n",
    "dataset_total = pd.concat((dataset_train['Open'], dataset_test['Open']), axis = 0)\n",
    "inputs = dataset_total[len(dataset_total) - len(dataset_test) - INPUT_SIZE:].values\n",
    "inputs = inputs.reshape(-1,1)\n",
    "inputs = sc.transform(inputs)\n",
    "X_test = []\n",
    "for i in range(INPUT_SIZE, 80):\n",
    "    X_test.append(inputs[i-INPUT_SIZE:i, 0])\n",
    "X_test = np.array(X_test)\n",
    "X_test = np.reshape(X_test, (X_test.shape[0], 1, X_test.shape[1]))"
   ]
  },
  {
   "cell_type": "markdown",
   "metadata": {},
   "source": [
    "# 3. 定義LSTM網路"
   ]
  },
  {
   "cell_type": "code",
   "execution_count": 3,
   "metadata": {},
   "outputs": [
    {
     "name": "stdout",
     "output_type": "stream",
     "text": [
      "模型結構：\n",
      "LSTM(\n",
      "  (rnn): LSTM(60, 64, num_layers=2)\n",
      "  (out): Linear(in_features=64, out_features=1, bias=True)\n",
      ")\n"
     ]
    }
   ],
   "source": [
    "class LSTM(nn.Module):\n",
    "    def __init__(self, i_size, h_size, n_layers, o_size):\n",
    "        super(LSTM, self).__init__()\n",
    "\n",
    "        self.rnn = nn.LSTM(\n",
    "            input_size=i_size,\n",
    "            hidden_size=h_size,\n",
    "            num_layers=n_layers\n",
    "        )\n",
    "        self.out = nn.Linear(h_size, o_size)\n",
    "\n",
    "    def forward(self, x, h_state):\n",
    "        r_out, hidden_state = self.rnn(x, h_state)\n",
    "        \n",
    "        hidden_size = hidden_state[-1].size(-1)\n",
    "        r_out = r_out.view(-1, hidden_size)\n",
    "        outs = self.out(r_out)\n",
    "\n",
    "        return outs, hidden_state\n",
    "    \n",
    "HIDDEN_SIZE = 64\n",
    "NUM_LAYERS = 2\n",
    "OUTPUT_SIZE = 1\n",
    "lstm = LSTM(INPUT_SIZE, HIDDEN_SIZE, NUM_LAYERS, OUTPUT_SIZE).cuda()\n",
    "print(\"模型結構：\")\n",
    "print(lstm)"
   ]
  },
  {
   "cell_type": "markdown",
   "metadata": {},
   "source": [
    "# 4. 設定訓練細節\n",
    "* 訓練次數 : 預設為50\n",
    "* 設定Loss function : 預設為Mean-Square-Error Loss\n",
    "* 設定Optimizer : 預設為Adam"
   ]
  },
  {
   "cell_type": "code",
   "execution_count": 4,
   "metadata": {},
   "outputs": [],
   "source": [
    "EPOCH = 50\n",
    "optimiser = torch.optim.Adam(lstm.parameters(), lr=0.001)\n",
    "criterion = nn.MSELoss()\n",
    "hidden_state = None"
   ]
  },
  {
   "cell_type": "markdown",
   "metadata": {},
   "source": [
    "# 5. 進行訓練"
   ]
  },
  {
   "cell_type": "code",
   "execution_count": 5,
   "metadata": {},
   "outputs": [
    {
     "name": "stdout",
     "output_type": "stream",
     "text": [
      "Epoch [0 / 50]: loss 0.2443130761384964\n",
      "Epoch [1 / 50]: loss 0.19467070698738098\n",
      "Epoch [2 / 50]: loss 0.14946135878562927\n",
      "Epoch [3 / 50]: loss 0.107557013630867\n",
      "Epoch [4 / 50]: loss 0.06949447095394135\n",
      "Epoch [5 / 50]: loss 0.03790978342294693\n",
      "Epoch [6 / 50]: loss 0.017883747816085815\n",
      "Epoch [7 / 50]: loss 0.016131572425365448\n",
      "Epoch [8 / 50]: loss 0.03199376165866852\n",
      "Epoch [9 / 50]: loss 0.04412200674414635\n",
      "Epoch [10 / 50]: loss 0.04237954318523407\n",
      "Epoch [11 / 50]: loss 0.03292826563119888\n",
      "Epoch [12 / 50]: loss 0.023073935881257057\n",
      "Epoch [13 / 50]: loss 0.016731521114706993\n",
      "Epoch [14 / 50]: loss 0.014570258557796478\n",
      "Epoch [15 / 50]: loss 0.015440835617482662\n",
      "Epoch [16 / 50]: loss 0.01769881695508957\n",
      "Epoch [17 / 50]: loss 0.019951073452830315\n",
      "Epoch [18 / 50]: loss 0.02131764031946659\n",
      "Epoch [19 / 50]: loss 0.021420098841190338\n",
      "Epoch [20 / 50]: loss 0.0202676709741354\n",
      "Epoch [21 / 50]: loss 0.01813778653740883\n",
      "Epoch [22 / 50]: loss 0.015476711094379425\n",
      "Epoch [23 / 50]: loss 0.01280960999429226\n",
      "Epoch [24 / 50]: loss 0.010640798136591911\n",
      "Epoch [25 / 50]: loss 0.009335403330624104\n",
      "Epoch [26 / 50]: loss 0.008999178186058998\n",
      "Epoch [27 / 50]: loss 0.009408296085894108\n",
      "Epoch [28 / 50]: loss 0.01006055437028408\n",
      "Epoch [29 / 50]: loss 0.010379891842603683\n",
      "Epoch [30 / 50]: loss 0.009994488209486008\n",
      "Epoch [31 / 50]: loss 0.008916600607335567\n",
      "Epoch [32 / 50]: loss 0.007504161447286606\n",
      "Epoch [33 / 50]: loss 0.006245098076760769\n",
      "Epoch [34 / 50]: loss 0.005509618669748306\n",
      "Epoch [35 / 50]: loss 0.005396985914558172\n",
      "Epoch [36 / 50]: loss 0.005725061520934105\n",
      "Epoch [37 / 50]: loss 0.006143668200820684\n",
      "Epoch [38 / 50]: loss 0.006313691847026348\n",
      "Epoch [39 / 50]: loss 0.006070899777114391\n",
      "Epoch [40 / 50]: loss 0.005495736375451088\n",
      "Epoch [41 / 50]: loss 0.0048553175292909145\n",
      "Epoch [42 / 50]: loss 0.004448143765330315\n",
      "Epoch [43 / 50]: loss 0.00443025678396225\n",
      "Epoch [44 / 50]: loss 0.004721039906144142\n",
      "Epoch [45 / 50]: loss 0.005059744231402874\n",
      "Epoch [46 / 50]: loss 0.005189372226595879\n",
      "Epoch [47 / 50]: loss 0.0050327349454164505\n",
      "Epoch [48 / 50]: loss 0.004721436183899641\n",
      "Epoch [49 / 50]: loss 0.004469992592930794\n"
     ]
    }
   ],
   "source": [
    "for epoch in range(EPOCH):\n",
    "    inputs = Variable(torch.from_numpy(X_train).float()).cuda()\n",
    "    labels = Variable(torch.from_numpy(y_train).float()).cuda()\n",
    "\n",
    "    output, hidden_state = lstm(inputs, hidden_state) \n",
    "\n",
    "    loss = criterion(output.view(-1), labels)\n",
    "    optimiser.zero_grad()\n",
    "    loss.backward(retain_graph=True)                     \n",
    "    optimiser.step()                                \n",
    "    \n",
    "    print('Epoch [{} / {}]: loss {}'.format(epoch,EPOCH,loss.item()))"
   ]
  },
  {
   "cell_type": "markdown",
   "metadata": {},
   "source": [
    "# 5. 進行測試"
   ]
  },
  {
   "cell_type": "code",
   "execution_count": 6,
   "metadata": {},
   "outputs": [],
   "source": [
    "X_train_X_test = np.concatenate((X_train, X_test),axis=0)\n",
    "hidden_state = None\n",
    "test_inputs = Variable(torch.from_numpy(X_train_X_test).float()).cuda()\n",
    "predicted_stock_price, b = lstm(test_inputs, hidden_state)\n",
    "predicted_stock_price = predicted_stock_price.cpu().data\n",
    "predicted_stock_price = np.reshape(predicted_stock_price.detach().numpy(), (test_inputs.shape[0], 1))\n",
    "predicted_stock_price = sc.inverse_transform(predicted_stock_price)\n",
    "\n",
    "real_stock_price_all = np.concatenate((training_set[INPUT_SIZE:], real_stock_price))"
   ]
  },
  {
   "cell_type": "markdown",
   "metadata": {},
   "source": [
    "# 6. 輸出測試成果"
   ]
  },
  {
   "cell_type": "code",
   "execution_count": 7,
   "metadata": {},
   "outputs": [
    {
     "data": {
      "image/png": "[encoded data removed]",
      "text/plain": [
       "<matplotlib.figure.Figure at 0x7f37ccf4afd0>"
      ]
     },
     "metadata": {},
     "output_type": "display_data"
    }
   ],
   "source": [
    "plt.figure(1, figsize=(12, 5))\n",
    "plt.plot(real_stock_price_all, color = 'red', label = 'Real')\n",
    "plt.plot(predicted_stock_price, color = 'blue', label = 'Pred')\n",
    "plt.title('Google Stock Price Prediction')\n",
    "plt.xlabel('Time')\n",
    "plt.ylabel('Google Stock Price')\n",
    "plt.legend()\n",
    "plt.show()"
   ]
  }
 ],
 "metadata": {
  "kernelspec": {
   "display_name": "Python 3",
   "language": "python",
   "name": "python3"
  },
  "language_info": {
   "codemirror_mode": {
    "name": "ipython",
    "version": 3
   },
   "file_extension": ".py",
   "mimetype": "text/x-python",
   "name": "python",
   "nbconvert_exporter": "python",
   "pygments_lexer": "ipython3",
   "version": "3.6.4"
  }
 },
 "nbformat": 4,
 "nbformat_minor": 2
}
