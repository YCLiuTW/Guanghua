{
 "cells": [
  {
   "cell_type": "markdown",
   "metadata": {},
   "source": [
    "# CNN 教學筆記本\n",
    "在這本筆記本中，將利用貓、狗圖片資料集訓練一個簡易的影像分類器。\n",
    "\n",
    "## 程式語言及相關的Library\n",
    "* Python \n",
    "* Numpy\n",
    "* Pytorch"
   ]
  },
  {
   "cell_type": "markdown",
   "metadata": {},
   "source": [
    "# 1. 導入相關的Library"
   ]
  },
  {
   "cell_type": "code",
   "execution_count": 1,
   "metadata": {
    "collapsed": true
   },
   "outputs": [],
   "source": [
    "import os\n",
    "import torch\n",
    "import torchvision\n",
    "from torch.autograd import Variable\n",
    "import numpy as np\n",
    "from data.DataLoader import *"
   ]
  },
  {
   "cell_type": "markdown",
   "metadata": {},
   "source": [
    "# 2. 導入 貓、狗圖片資料集\n",
    "簡介：Kaggle在2013年舉辦了辨識圖片中是貓或狗的比賽，對於人來說要辨識貓或狗不是一件難事，但對於電腦而言可不是一件輕鬆的任務。在該場競賽中，參賽者可以開發任意演算法，我們擷取比賽資料集中的一部分資料作為訓練ＣＮＮ的資料。\n",
    "![woof_meow](./utils/notebook_pic/woof_meow.jpg)\n",
    "本資料集一共包含2種類別的圖片，包含\n",
    "* 1 : Cat\n",
    "* 2 : Dog"
   ]
  },
  {
   "cell_type": "code",
   "execution_count": 2,
   "metadata": {
    "collapsed": true
   },
   "outputs": [],
   "source": [
    "from torch.utils import data\n",
    "train_data = CatDog_Loader(data_root = 'data',train = True)\n",
    "train_dataloader = data.DataLoader(dataset=train_data,batch_size = 10, shuffle=True)\n",
    "\n",
    "test_data = CatDog_Loader(data_root = 'data',train = False)\n",
    "test_dataloader = data.DataLoader(dataset=test_data,batch_size = 4, shuffle=True)"
   ]
  },
  {
   "cell_type": "markdown",
   "metadata": {},
   "source": [
    "# 3. 定義CNN模型 : LeNet\n",
    "LeNet是公認的CNN始祖，由Yann LeCun於1998年提出，同時也是目前CNN的hello world。\n",
    "## LeNet架構、特性可以歸納為 :  \n",
    "* 卷積層(convolution layer) : 掃描圖像上的特徵、紋理及色彩資料。，並將與\n",
    "* 池化層(pooling layer) : 減輕從卷積層掃描之特徵。\n",
    "* 全連接層(fully connective layer) : 藉由萃取後的圖像特徵，進行分類。\n",
    "* 激活層(activation layer) : 將結果之正相關特徵激活。\n",
    "\n",
    "![LeNet](./utils/notebook_pic/lenet.png)"
   ]
  },
  {
   "cell_type": "code",
   "execution_count": 3,
   "metadata": {},
   "outputs": [
    {
     "name": "stdout",
     "output_type": "stream",
     "text": [
      "LeNet結構：\n",
      "LeNet(\n",
      "  (conv1): Conv2d(3, 6, kernel_size=(5, 5), stride=(1, 1))\n",
      "  (conv2): Conv2d(6, 16, kernel_size=(5, 5), stride=(1, 1))\n",
      "  (fc1): Linear(in_features=400, out_features=120, bias=True)\n",
      "  (fc2): Linear(in_features=120, out_features=84, bias=True)\n",
      "  (fc3): Linear(in_features=84, out_features=2, bias=True)\n",
      ")\n"
     ]
    }
   ],
   "source": [
    "import torch.nn as nn\n",
    "import torch.nn.functional as F\n",
    "\n",
    "class LeNet(nn.Module):\n",
    "    def __init__(self,num_classes = 2):\n",
    "        super(LeNet, self).__init__()\n",
    "        self.conv1 = nn.Conv2d(3, 6, 5)\n",
    "        self.conv2 = nn.Conv2d(6, 16, 5)\n",
    "        self.fc1   = nn.Linear(16*5*5, 120)\n",
    "        self.fc2   = nn.Linear(120, 84)\n",
    "        self.fc3   = nn.Linear(84, num_classes)\n",
    "\n",
    "    def forward(self, x):\n",
    "        out = F.relu(self.conv1(x))\n",
    "        out = F.max_pool2d(out, 2)\n",
    "        out = F.relu(self.conv2(out))\n",
    "        out = F.max_pool2d(out, 2)\n",
    "        out = out.view(out.size(0), -1)\n",
    "        out = F.relu(self.fc1(out))\n",
    "        out = F.relu(self.fc2(out))\n",
    "        out = self.fc3(out)\n",
    "        return out\n",
    "    \n",
    "Net = LeNet(num_classes = 2)\n",
    "Net.train()\n",
    "Net.cuda()\n",
    "print(\"LeNet結構：\")\n",
    "print(Net)"
   ]
  },
  {
   "cell_type": "markdown",
   "metadata": {},
   "source": [
    "# 4. 設定訓練細節\n",
    "* 訓練次數 : 預設為10\n",
    "* 設定Loss function : 預設為Cross-Entropy Loss\n",
    "* 設定Optimizer : 預設為SGD\n",
    " "
   ]
  },
  {
   "cell_type": "code",
   "execution_count": 4,
   "metadata": {
    "collapsed": true
   },
   "outputs": [],
   "source": [
    "import torch.optim as optim\n",
    "EPOCH = 20\n",
    "criterion = nn.CrossEntropyLoss()\n",
    "optimizer = optim.SGD(Net.parameters(), lr=0.001, momentum=0.9)"
   ]
  },
  {
   "cell_type": "markdown",
   "metadata": {},
   "source": [
    "# 5. 進行訓練"
   ]
  },
  {
   "cell_type": "code",
   "execution_count": 5,
   "metadata": {},
   "outputs": [
    {
     "name": "stdout",
     "output_type": "stream",
     "text": [
      "Epoch [ 0  /  20 ] : \n",
      "[1,    20] loss: 0.802\n",
      "Epoch [ 1  /  20 ] : \n",
      "[1,    20] loss: 0.728\n",
      "Epoch [ 2  /  20 ] : \n",
      "[1,    20] loss: 0.707\n",
      "Epoch [ 3  /  20 ] : \n",
      "[1,    20] loss: 0.670\n",
      "Epoch [ 4  /  20 ] : \n",
      "[1,    20] loss: 0.641\n",
      "Epoch [ 5  /  20 ] : \n",
      "[1,    20] loss: 0.687\n",
      "Epoch [ 6  /  20 ] : \n",
      "[1,    20] loss: 0.575\n",
      "Epoch [ 7  /  20 ] : \n",
      "[1,    20] loss: 0.534\n",
      "Epoch [ 8  /  20 ] : \n",
      "[1,    20] loss: 0.533\n",
      "Epoch [ 9  /  20 ] : \n",
      "[1,    20] loss: 0.532\n",
      "Epoch [ 10  /  20 ] : \n",
      "[1,    20] loss: 0.447\n",
      "Epoch [ 11  /  20 ] : \n",
      "[1,    20] loss: 0.469\n",
      "Epoch [ 12  /  20 ] : \n",
      "[1,    20] loss: 0.363\n",
      "Epoch [ 13  /  20 ] : \n",
      "[1,    20] loss: 0.315\n",
      "Epoch [ 14  /  20 ] : \n",
      "[1,    20] loss: 0.193\n",
      "Epoch [ 15  /  20 ] : \n",
      "[1,    20] loss: 0.142\n",
      "Epoch [ 16  /  20 ] : \n",
      "[1,    20] loss: 0.049\n",
      "Epoch [ 17  /  20 ] : \n",
      "[1,    20] loss: 0.152\n",
      "Epoch [ 18  /  20 ] : \n",
      "[1,    20] loss: 0.063\n",
      "Epoch [ 19  /  20 ] : \n",
      "[1,    20] loss: 0.159\n",
      "結束訓練\n"
     ]
    }
   ],
   "source": [
    "for epoch in range(EPOCH): \n",
    "    print('Epoch [', epoch,' / ', EPOCH ,'] : ')\n",
    "    running_loss = 0.0\n",
    "    for i, data in enumerate(train_dataloader, 0):\n",
    "        # 取得訓練資料\n",
    "        inputs, labels = data\n",
    "        inputs = Variable(inputs).cuda()\n",
    "        labels = Variable(labels).cuda()\n",
    "        # 初始化optimizer\n",
    "        optimizer.zero_grad()\n",
    "        # 資料送至AlexNet : Forward\n",
    "        outputs = Net(inputs)\n",
    "        # 計算Loss\n",
    "        loss = criterion(outputs, labels)\n",
    "        # 修正網路並調整Optimizer\n",
    "        loss.backward()\n",
    "        optimizer.step()\n",
    "        running_loss += loss.item()\n",
    "        if i % 20 == 19:    #每40步輸出訓練成果\n",
    "            print('[%d, %5d] loss: %.3f' %\n",
    "                  (i-18, i + 1, running_loss / 19))\n",
    "            running_loss = 0.0\n",
    "\n",
    "print('結束訓練')"
   ]
  },
  {
   "cell_type": "markdown",
   "metadata": {
    "collapsed": true
   },
   "source": [
    "# 訓練20 EPOCH 後的細節\n",
    ".<br />\n",
    ".<br />\n",
    ".<br />\n",
    "Epoch [ 17  /  20 ] : <br />\n",
    "[1,    20] loss: 0.152<br />\n",
    "Epoch [ 18  /  20 ] : <br />\n",
    "[1,    20] loss: 0.063<br />\n",
    "Epoch [ 19  /  20 ] : <br />\n",
    "[1,    20] loss: 0.159<br />"
   ]
  },
  {
   "cell_type": "markdown",
   "metadata": {},
   "source": [
    "# 6. 測試訓練後的模型"
   ]
  },
  {
   "cell_type": "code",
   "execution_count": 7,
   "metadata": {},
   "outputs": [
    {
     "name": "stdout",
     "output_type": "stream",
     "text": [
      "Accuracy of   cat : 100 %\n",
      "Accuracy of   dog : 100 %\n"
     ]
    }
   ],
   "source": [
    "class_correct = list(0. for i in range(2))\n",
    "class_total = list(0. for i in range(2))\n",
    "classes = ('cat','dog')\n",
    "with torch.no_grad():\n",
    "    \n",
    "    for data in test_dataloader:\n",
    "        images, labels = data\n",
    "        images = Variable(images).cuda()\n",
    "        \n",
    "        outputs = Net(images)\n",
    "        _, predicted = torch.max(outputs, 1)\n",
    "        c = (predicted.data.cpu() == labels).squeeze()\n",
    "        \n",
    "        for i in range(2):\n",
    "            label = labels[i]\n",
    "            class_correct[label] += c[i].item()\n",
    "            class_total[label] += 1\n",
    "\n",
    "\n",
    "for i in range(2):\n",
    "    print('Accuracy of %5s : %2d %%' % (\n",
    "        classes[i], 100 * class_correct[i] / class_total[i]))"
   ]
  },
  {
   "cell_type": "markdown",
   "metadata": {},
   "source": [
    "# 訓練20 EPOCH 後的成果\n",
    "Accuracy of   cat : 100 % <br />\n",
    "Accuracy of   dog : 100 % <br />"
   ]
  }
 ],
 "metadata": {
  "kernelspec": {
   "display_name": "Python 3",
   "language": "python",
   "name": "python3"
  },
  "language_info": {
   "codemirror_mode": {
    "name": "ipython",
    "version": 3
   },
   "file_extension": ".py",
   "mimetype": "text/x-python",
   "name": "python",
   "nbconvert_exporter": "python",
   "pygments_lexer": "ipython3",
   "version": "3.6.7"
  }
 },
 "nbformat": 4,
 "nbformat_minor": 2
}
